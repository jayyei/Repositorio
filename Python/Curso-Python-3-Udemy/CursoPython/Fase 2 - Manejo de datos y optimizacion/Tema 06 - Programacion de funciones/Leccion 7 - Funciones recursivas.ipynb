{
 "cells": [
  {
   "cell_type": "code",
   "execution_count": 2,
   "metadata": {},
   "outputs": [
    {
     "name": "stdout",
     "output_type": "stream",
     "text": [
      "5\n",
      "4\n",
      "3\n",
      "2\n",
      "1\n",
      "Boooooom!!\n",
      "Fin de la funcion\n",
      "Fin de la funcion\n",
      "Fin de la funcion\n",
      "Fin de la funcion\n",
      "Fin de la funcion\n",
      "Fin de la funcion\n"
     ]
    }
   ],
   "source": [
    "def cuenta_atras(num):\n",
    "    num -= 1\n",
    "    if(num>0):\n",
    "        print(num)\n",
    "        cuenta_atras(num)\n",
    "    else:\n",
    "        print(\"Boooooom!!\")\n",
    "    print(\"Fin de la funcion\")\n",
    "cuenta_atras(6)"
   ]
  },
  {
   "cell_type": "code",
   "execution_count": 6,
   "metadata": {},
   "outputs": [
    {
     "name": "stdout",
     "output_type": "stream",
     "text": [
      "Valor inicial de  5\n",
      "Valor inicial de  4\n",
      "Valor inicial de  3\n",
      "Valor inicial de  2\n",
      "Valor inicial de  1\n",
      "Valor final de  1\n",
      "Valor final de  2\n",
      "Valor final de  6\n",
      "Valor final de  24\n",
      "Valor final de  120\n"
     ]
    },
    {
     "data": {
      "text/plain": [
       "120"
      ]
     },
     "execution_count": 6,
     "metadata": {},
     "output_type": "execute_result"
    }
   ],
   "source": [
    "def factorial(num):\n",
    "    print(\"Valor inicial de \", num)\n",
    "    if num > 1:\n",
    "        num = num * factorial(num - 1)\n",
    "    print(\"Valor final de \", num)\n",
    "    return num\n",
    "factorial(5)"
   ]
  },
  {
   "cell_type": "code",
   "execution_count": null,
   "metadata": {},
   "outputs": [],
   "source": []
  }
 ],
 "metadata": {
  "kernelspec": {
   "display_name": "Python 3",
   "language": "python",
   "name": "python3"
  },
  "language_info": {
   "codemirror_mode": {
    "name": "ipython",
    "version": 3
   },
   "file_extension": ".py",
   "mimetype": "text/x-python",
   "name": "python",
   "nbconvert_exporter": "python",
   "pygments_lexer": "ipython3",
   "version": "3.8.5"
  }
 },
 "nbformat": 4,
 "nbformat_minor": 1
}
