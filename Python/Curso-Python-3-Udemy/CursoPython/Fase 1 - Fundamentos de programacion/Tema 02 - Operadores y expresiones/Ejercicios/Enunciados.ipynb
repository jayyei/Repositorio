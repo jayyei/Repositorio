{
 "cells": [
  {
   "cell_type": "markdown",
   "metadata": {},
   "source": [
    "# Tema 02: Operadores y expresiones (Enunciados)\n",
    "*Nota: Estos ejercicios son optativos para hacer al final de la unidad y están pensados para apoyar tu aprendizaje*."
   ]
  },
  {
   "cell_type": "markdown",
   "metadata": {},
   "source": [
    "**1) Realiza un programa que lea 2 números por teclado y determine los siguientes aspectos (es suficiene con mostrar True o False):**\n",
    "* Si los dos números son iguales\n",
    "* Si los dos números son diferentes\n",
    "* Si el primero es mayor que el segundo\n",
    "* Si el segundo es mayor o igual que el primero"
   ]
  },
  {
   "cell_type": "code",
   "execution_count": 1,
   "metadata": {},
   "outputs": [
    {
     "name": "stdout",
     "output_type": "stream",
     "text": [
      "Escriba un numero 35\n",
      "Escriba otro numero 23\n",
      "Son diferentes\n",
      "A es mayor que B\n"
     ]
    }
   ],
   "source": [
    "# Completa el ejercicio aquí\n",
    "\n",
    "numeroA = float(input(\"Escriba un numero \"))\n",
    "numeroB = float(input(\"Escriba otro numero \"))\n",
    "\n",
    "if numeroA == numeroB:\n",
    "    print(\"Son iguales\")\n",
    "\n",
    "if numeroA != numeroB:\n",
    "    print(\"Son diferentes\")\n",
    "    \n",
    "if numeroA > numeroB:\n",
    "    print(\"A es mayor que B\")\n",
    "\n",
    "if numeroA < numeroB:\n",
    "    print(\"B es mayor que A\")"
   ]
  },
  {
   "cell_type": "markdown",
   "metadata": {},
   "source": [
    "**2) Utilizando operadores lógicos, determina si una cadena de texto introducida por el usuario tiene una longitud mayor o igual que 3 y a su vez es menor que 10 (es suficiene con mostrar True o False):**"
   ]
  },
  {
   "cell_type": "code",
   "execution_count": 5,
   "metadata": {},
   "outputs": [
    {
     "name": "stdout",
     "output_type": "stream",
     "text": [
      "Introduce una cadena Alcachofa\n",
      "Condicion cumplida\n"
     ]
    }
   ],
   "source": [
    "# Completa el ejercicio aquí\n",
    "cadena = input(\"Introduce una cadena \")\n",
    "\n",
    "if len(cadena) >= 3 and len(cadena) < 10:\n",
    "    print (\"Condicion cumplida\")\n"
   ]
  },
  {
   "cell_type": "markdown",
   "metadata": {},
   "source": [
    "**3) Realiza un programa que cumpla el siguiente algoritmo utilizando siempre que sea posible operadores en asignación:**\n",
    "* Guarda en una variable numero_magico el valor 12345679 (sin el 8)\n",
    "* Lee por pantalla otro numero_usuario, especifica que sea entre 1 y 9 (asegúrate que es un número)\n",
    "* Multiplica el numero_usuario por 9 en sí mismo\n",
    "* Multiplica el numero_magico por el numero_usuario en sí mismo\n",
    "* Finalmente muestra el valor final del numero_magico por pantalla\n"
   ]
  },
  {
   "cell_type": "code",
   "execution_count": 7,
   "metadata": {},
   "outputs": [
    {
     "name": "stdout",
     "output_type": "stream",
     "text": [
      "Especifica un numero entre el 1 y el 98\n",
      "888888888\n"
     ]
    }
   ],
   "source": [
    "# Completa el ejercicio aquí\n",
    "\n",
    "numero = 12345679\n",
    "numero_leido = int(input(\"Especifica un numero entre el 1 y el 9\"))\n",
    "numero_leido *= 9\n",
    "numero *= numero_leido\n",
    "\n",
    "print(numero)"
   ]
  },
  {
   "cell_type": "code",
   "execution_count": null,
   "metadata": {},
   "outputs": [],
   "source": []
  }
 ],
 "metadata": {
  "anaconda-cloud": {},
  "kernelspec": {
   "display_name": "Python 3",
   "language": "python",
   "name": "python3"
  },
  "language_info": {
   "codemirror_mode": {
    "name": "ipython",
    "version": 3
   },
   "file_extension": ".py",
   "mimetype": "text/x-python",
   "name": "python",
   "nbconvert_exporter": "python",
   "pygments_lexer": "ipython3",
   "version": "3.8.5"
  }
 },
 "nbformat": 4,
 "nbformat_minor": 1
}
