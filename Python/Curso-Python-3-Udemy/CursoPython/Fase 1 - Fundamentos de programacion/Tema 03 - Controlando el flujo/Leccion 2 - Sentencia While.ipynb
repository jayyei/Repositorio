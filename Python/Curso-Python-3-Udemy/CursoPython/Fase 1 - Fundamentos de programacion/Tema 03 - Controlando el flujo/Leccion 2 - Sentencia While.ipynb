{
 "cells": [
  {
   "cell_type": "code",
   "execution_count": 1,
   "metadata": {},
   "outputs": [
    {
     "name": "stdout",
     "output_type": "stream",
     "text": [
      "C vale  1\n",
      "C vale  2\n",
      "C vale  3\n",
      "C vale  4\n",
      "C vale  5\n",
      "C vale  6\n"
     ]
    }
   ],
   "source": [
    "c = 0\n",
    "while c <= 5:\n",
    "    c += 1\n",
    "    print(\"C vale \", c)"
   ]
  },
  {
   "cell_type": "code",
   "execution_count": 4,
   "metadata": {},
   "outputs": [
    {
     "name": "stdout",
     "output_type": "stream",
     "text": [
      "c vale  1\n",
      "c vale  2\n",
      "c vale  3\n",
      "c vale  4\n",
      "c vale  5\n",
      "c vale  6\n",
      "Se ha completado toda la iteracion y c vale  6\n"
     ]
    }
   ],
   "source": [
    "c = 0\n",
    "while c <= 5:\n",
    "    c += 1\n",
    "    print(\"c vale \", c)\n",
    "else:\n",
    "    print(\"Se ha completado toda la iteracion y c vale \", c)"
   ]
  },
  {
   "cell_type": "code",
   "execution_count": 7,
   "metadata": {},
   "outputs": [
    {
     "name": "stdout",
     "output_type": "stream",
     "text": [
      "C vale 1\n",
      "Rompemos el bucle cuando c vale  2\n"
     ]
    }
   ],
   "source": [
    "c = 0\n",
    "while c <= 5:\n",
    "    c += 1\n",
    "    if(c == 2):\n",
    "        print(\"Rompemos el bucle cuando c vale \",c)\n",
    "        break\n",
    "    print(\"C vale\", c)\n",
    "else:\n",
    "    print(\"Se ha completado toda la iteracion y c vale \",c)"
   ]
  },
  {
   "cell_type": "code",
   "execution_count": 8,
   "metadata": {},
   "outputs": [
    {
     "name": "stdout",
     "output_type": "stream",
     "text": [
      "C vale 1\n",
      "Continuamos con la siguiente iteraccion  2\n",
      "C vale 3\n",
      "C vale 4\n",
      "C vale 5\n",
      "C vale 6\n",
      "Se ha completado toda la iteracion y c vale  6\n"
     ]
    }
   ],
   "source": [
    "c = 0\n",
    "while c <= 5:\n",
    "    c += 1\n",
    "    if(c == 2):\n",
    "        print(\"Continuamos con la siguiente iteracion \",c)\n",
    "        continue\n",
    "    print(\"C vale\", c)\n",
    "else:\n",
    "    print(\"Se ha completado toda la iteracion y c vale \",c)"
   ]
  },
  {
   "cell_type": "code",
   "execution_count": 10,
   "metadata": {},
   "outputs": [
    {
     "name": "stdout",
     "output_type": "stream",
     "text": [
      "bienvenido al menu interactivo\n",
      "¿Que quieres hacer? Escribe una opcion\n",
      "    1) Saludar\n",
      "    2) Sumar dos numeros\n",
      "    3) Salir\n",
      "1\n",
      "Hola, espero que te la estes pasando bien \n",
      "\n",
      "¿Que quieres hacer? Escribe una opcion\n",
      "    1) Saludar\n",
      "    2) Sumar dos numeros\n",
      "    3) Salir\n",
      "2\n",
      "Introduce el primer numero 2 \n",
      "Introduce el segundo numero 3\n",
      "El resultado de la suma es:  5.0 \n",
      "\n",
      "¿Que quieres hacer? Escribe una opcion\n",
      "    1) Saludar\n",
      "    2) Sumar dos numeros\n",
      "    3) Salir\n",
      "2\n",
      "Introduce el primer numero 12\n",
      "Introduce el segundo numero 23\n",
      "El resultado de la suma es:  35.0 \n",
      "\n",
      "¿Que quieres hacer? Escribe una opcion\n",
      "    1) Saludar\n",
      "    2) Sumar dos numeros\n",
      "    3) Salir\n",
      "3\n",
      "Hasta luego!, ha sido un place ayudarte \n",
      "\n"
     ]
    }
   ],
   "source": [
    "print(\"bienvenido al menu interactivo\")\n",
    "while(True):\n",
    "    print(\"\"\"¿Que quieres hacer? Escribe una opcion\n",
    "    1) Saludar\n",
    "    2) Sumar dos numeros\n",
    "    3) Salir\"\"\")\n",
    "    opcion = input()\n",
    "    if(opcion == '1'):\n",
    "        print(\"Hola, espero que te la estes pasando bien \\n\")\n",
    "    elif opcion == '2':\n",
    "        n1 = float(input(\"Introduce el primer numero \"))\n",
    "        n2 = float(input(\"Introduce el segundo numero \"))\n",
    "        print(\"El resultado de la suma es: \", n1 + n2, \"\\n\")\n",
    "    elif opcion == '3':\n",
    "        print(\"Hasta luego!, ha sido un place ayudarte\", \"\\n\")\n",
    "        break\n",
    "    else:\n",
    "        print(\"Comando desconocido vuelve a intentarlo\")"
   ]
  },
  {
   "cell_type": "code",
   "execution_count": null,
   "metadata": {},
   "outputs": [],
   "source": []
  }
 ],
 "metadata": {
  "kernelspec": {
   "display_name": "Python 3",
   "language": "python",
   "name": "python3"
  },
  "language_info": {
   "codemirror_mode": {
    "name": "ipython",
    "version": 3
   },
   "file_extension": ".py",
   "mimetype": "text/x-python",
   "name": "python",
   "nbconvert_exporter": "python",
   "pygments_lexer": "ipython3",
   "version": "3.8.5"
  }
 },
 "nbformat": 4,
 "nbformat_minor": 1
}
