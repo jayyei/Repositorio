{
 "cells": [
  {
   "cell_type": "markdown",
   "metadata": {},
   "source": [
    "# Tema 03: Control de flujo (Enunciados)\n",
    "*Nota: Estos ejercicios son optativos para hacer al final de la unidad y están pensados para apoyar tu aprendizaje*."
   ]
  },
  {
   "cell_type": "markdown",
   "metadata": {},
   "source": [
    "**1) Realiza un programa que lea dos números por teclado y permita elegir entre 3 opciones en un menú:** \n",
    "* Mostrar una suma de los dos números\n",
    "* Mostrar una resta de los dos números (el primero menos el segundo)\n",
    "* Mostrar una multiplicación de los dos números\n",
    "* En caso de no introducir una opción válida, el programa informará de que no es correcta."
   ]
  },
  {
   "cell_type": "code",
   "execution_count": 3,
   "metadata": {},
   "outputs": [
    {
     "name": "stdout",
     "output_type": "stream",
     "text": [
      "Introduce el primer numero 45\n",
      "Introduce el segundo numero 46\n",
      "Seleccione una opcion \n",
      "\n",
      "    1) Sumar los numeros\n",
      "    2) Restar los numeros\n",
      "    3) Multiplicar los numeros \n",
      "    \n",
      "1\n",
      "El resultado es  91.0\n",
      "Introduce el primer numero 35\n",
      "Introduce el segundo numero 35\n",
      "Seleccione una opcion \n",
      "\n",
      "    1) Sumar los numeros\n",
      "    2) Restar los numeros\n",
      "    3) Multiplicar los numeros \n",
      "    \n",
      "2\n",
      "El resultado es  0.0\n",
      "Introduce el primer numero 12\n",
      "Introduce el segundo numero 2\n",
      "Seleccione una opcion \n",
      "\n",
      "    1) Sumar los numeros\n",
      "    2) Restar los numeros\n",
      "    3) Multiplicar los numeros \n",
      "    \n",
      "3\n",
      "El resultado es  24.0\n",
      "Introduce el primer numero 13\n",
      "Introduce el segundo numero 12\n",
      "Seleccione una opcion \n",
      "\n",
      "    1) Sumar los numeros\n",
      "    2) Restar los numeros\n",
      "    3) Multiplicar los numeros \n",
      "    \n",
      "4\n",
      "Opcion no valida, adios\n"
     ]
    }
   ],
   "source": [
    "# Completa el ejercicio aquí\n",
    "while(True):\n",
    "    numero1 = float(input(\"Introduce el primer numero \"))\n",
    "    numero2 = float(input(\"Introduce el segundo numero \"))\n",
    "    print(\"Seleccione una opcion \")\n",
    "    print(\"\"\"\n",
    "    1) Sumar los numeros\n",
    "    2) Restar los numeros\n",
    "    3) Multiplicar los numeros \n",
    "    \"\"\")\n",
    "    opcion = input()\n",
    "    if opcion == \"1\":\n",
    "        print(\"El resultado es \", numero1 + numero2)\n",
    "    elif opcion == \"2\":\n",
    "        print(\"El resultado es \", numero1 - numero2)\n",
    "    elif opcion == \"3\":\n",
    "        print(\"El resultado es \", numero1 * numero2 )\n",
    "    else:\n",
    "        print(\"Opcion no valida, adios\")\n",
    "        break"
   ]
  },
  {
   "cell_type": "markdown",
   "metadata": {},
   "source": [
    "**2) Realiza un programa que lea un número impar por teclado. Si el usuario no introduce un número impar, debe repetise el proceso hasta que lo introduzca correctamente.**"
   ]
  },
  {
   "cell_type": "code",
   "execution_count": 6,
   "metadata": {},
   "outputs": [
    {
     "name": "stdout",
     "output_type": "stream",
     "text": [
      "Introduce un numero impar sopenco 12\n",
      "No es un numero par, intenta otra vez\n",
      "Introduce un numero impar sopenco 14\n",
      "No es un numero par, intenta otra vez\n",
      "Introduce un numero impar sopenco 2\n",
      "No es un numero par, intenta otra vez\n",
      "Introduce un numero impar sopenco 122345678\n",
      "No es un numero par, intenta otra vez\n",
      "Introduce un numero impar sopenco 1234567\n",
      "Es un numero impar\n"
     ]
    }
   ],
   "source": [
    "# Completa el ejercicio aquí\n",
    "while(True):\n",
    "    numeroImpar = int(input(\"Introduce un numero impar sopenco \"))\n",
    "    if numeroImpar % 2 == 0:\n",
    "        print(\"No es un numero par, intenta otra vez\")\n",
    "    else:\n",
    "        print(\"Es un numero impar\")\n",
    "        break"
   ]
  },
  {
   "cell_type": "markdown",
   "metadata": {},
   "source": [
    "## **3) Realiza un programa que sume todos los números enteros pares desde el 0 hasta el 100:**\n",
    "\n",
    "*Sugerencia: Puedes utilizar la funciones sum() y range() para hacerlo más fácil. El tercer parámetro en la función range(inicio, fin, salto) indica un salto de números, pruébalo.*"
   ]
  },
  {
   "cell_type": "code",
   "execution_count": 11,
   "metadata": {},
   "outputs": [
    {
     "name": "stdout",
     "output_type": "stream",
     "text": [
      "El conteo total es de  2550\n",
      "El conteo total utilizando sum es de  2550\n"
     ]
    }
   ],
   "source": [
    "# Completa el ejercicio aquí\n",
    "conteo = 0\n",
    "for numero in range(0, 101, 2):\n",
    "    conteo += numero\n",
    "print(\"El conteo total es de \", conteo)\n",
    "\n",
    "suma = sum( range(0, 101, 2))\n",
    "print(\"El conteo total utilizando sum es de \", suma)"
   ]
  },
  {
   "cell_type": "markdown",
   "metadata": {},
   "source": [
    "**4) Realiza un programa que pida al usuario cuantos números quiere introducir. Luego lee todos los números y realiza una media aritmética:**\n"
   ]
  },
  {
   "cell_type": "code",
   "execution_count": 16,
   "metadata": {},
   "outputs": [
    {
     "name": "stdout",
     "output_type": "stream",
     "text": [
      "Introduce la cantidad de numeros a ingresar 5\n",
      "Introduce la cantidad 9\n",
      "Introduce la cantidad 8\n",
      "Introduce la cantidad 7\n",
      "Introduce la cantidad 6\n",
      "Introduce la cantidad 5\n",
      "El resultado es  7.0\n"
     ]
    }
   ],
   "source": [
    "# Completa el ejercicio aquí\n",
    "cantidad = int(input (\"Introduce la cantidad de numeros a ingresar \"))\n",
    "\n",
    "suma = 0\n",
    "\n",
    "for numero in range(0, cantidad, 1):\n",
    "    suma += int(input(\"Introduce la cantidad \"))\n",
    "\n",
    "print(\"El resultado es \", suma/cantidad)"
   ]
  },
  {
   "cell_type": "markdown",
   "metadata": {},
   "source": [
    "**5) Realiza un programa que pida al usuario un número entero del 0 al 9, y que mientras el número no sea correcto se repita el proceso. Luego debe comprobar si el número se encuentra en la lista de números y notificarlo:**\n",
    "\n",
    "*Consejo: La sintaxis \"valor in lista\" permite comprobar fácilmente si un valor se encuentra en una lista (devuelve True o False)*"
   ]
  },
  {
   "cell_type": "code",
   "execution_count": 5,
   "metadata": {},
   "outputs": [],
   "source": [
    "# Completa el ejercicio aquí\n",
    "numeros = [1, 3, 6, 9]\n",
    "while(True):\n",
    "    numeroUsuario = int(input(\"Introduce un numero del 0 al 9\"))\n",
    "    if numeroUsuario in Lista:\n",
    "        print(\"Se encuentra en la lista\")\n",
    "        break\n",
    "    else:\n",
    "        print(\"No se encuentra en la lista\")"
   ]
  },
  {
   "cell_type": "markdown",
   "metadata": {},
   "source": [
    "**6) Utilizando la función range() y la conversión a listas genera las siguientes listas dinámicamente:**\n",
    "* Todos los números del 0 al 10 [0, 1, 2, ..., 10]\n",
    "* Todos los números del -10 al 0 [-10, -9, -8, ..., 0]\n",
    "* Todos los números pares del 0 al 20 [0, 2, 4, ..., 20]\n",
    "* Todos los números impares entre -20 y 0 [-19, -17, -15, ..., -1]\n",
    "* Todos los números múltiples de 5 del 0 al 50 [0, 5, 10, ..., 50]\n",
    "\n",
    "*Pista: Utiliza el tercer parámetro de la función range(inicio, fin, salto).*"
   ]
  },
  {
   "cell_type": "code",
   "execution_count": 7,
   "metadata": {},
   "outputs": [],
   "source": [
    "# Completa el ejercicio\n"
   ]
  },
  {
   "cell_type": "markdown",
   "metadata": {},
   "source": [
    "**7) Dadas dos listas, debes generar una tercera con todos los elementos que se repitan en ellas, pero no debe repetise ningún elemento en la nueva lista:**"
   ]
  },
  {
   "cell_type": "code",
   "execution_count": 8,
   "metadata": {},
   "outputs": [],
   "source": [
    "# Completa el ejercicio aquí\n"
   ]
  }
 ],
 "metadata": {
  "anaconda-cloud": {},
  "kernelspec": {
   "display_name": "Python 3",
   "language": "python",
   "name": "python3"
  },
  "language_info": {
   "codemirror_mode": {
    "name": "ipython",
    "version": 3
   },
   "file_extension": ".py",
   "mimetype": "text/x-python",
   "name": "python",
   "nbconvert_exporter": "python",
   "pygments_lexer": "ipython3",
   "version": "3.8.5"
  }
 },
 "nbformat": 4,
 "nbformat_minor": 1
}
