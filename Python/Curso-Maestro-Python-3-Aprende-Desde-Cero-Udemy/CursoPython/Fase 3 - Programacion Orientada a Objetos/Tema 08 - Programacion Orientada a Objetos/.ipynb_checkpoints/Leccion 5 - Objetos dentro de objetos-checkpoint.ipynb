{
 "cells": [
  {
   "cell_type": "code",
   "execution_count": 1,
   "metadata": {},
   "outputs": [],
   "source": [
    "class Pelicula:\n",
    "    \n",
    "    # Constructor de clase\n",
    "    def __init__(self, titulo, duracion, lanzamiento):\n",
    "        self.titulo = titulo\n",
    "        self.duracion = duracion\n",
    "        self.lanzamiento = lanzamiento\n",
    "        print('Se ha creado la película:',self.titulo)\n",
    "        \n",
    "    def __str__(self):\n",
    "        return '{} ({})'.format(self.titulo, self.lanzamiento)"
   ]
  },
  {
   "cell_type": "code",
   "execution_count": 2,
   "metadata": {},
   "outputs": [],
   "source": [
    "class Catalogo:\n",
    "    peliculas = []\n",
    "    \n",
    "    def __init__(self, peliculas=[]):\n",
    "        self.peliculas = peliculas\n",
    "        \n",
    "    def agregar(self, p):\n",
    "        self.peliculas.append(p)\n",
    "        \n",
    "    def mostra"
   ]
  },
  {
   "cell_type": "code",
   "execution_count": null,
   "metadata": {},
   "outputs": [],
   "source": []
  }
 ],
 "metadata": {
  "kernelspec": {
   "display_name": "Python 3",
   "language": "python",
   "name": "python3"
  },
  "language_info": {
   "codemirror_mode": {
    "name": "ipython",
    "version": 3
   },
   "file_extension": ".py",
   "mimetype": "text/x-python",
   "name": "python",
   "nbconvert_exporter": "python",
   "pygments_lexer": "ipython3",
   "version": "3.8.5"
  }
 },
 "nbformat": 4,
 "nbformat_minor": 1
}
