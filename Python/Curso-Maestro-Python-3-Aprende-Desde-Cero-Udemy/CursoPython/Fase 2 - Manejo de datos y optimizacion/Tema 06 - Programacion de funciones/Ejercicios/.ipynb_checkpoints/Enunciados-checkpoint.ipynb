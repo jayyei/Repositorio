{
 "cells": [
  {
   "cell_type": "markdown",
   "metadata": {},
   "source": [
    "# Tema 06: Programación de funciones (Enunciados)\n",
    "*Nota: Estos ejercicios son optativos para hacer al final de la unidad y están pensados para apoyar tu aprendizaje*."
   ]
  },
  {
   "cell_type": "markdown",
   "metadata": {},
   "source": [
    "**1) Realiza una función llamada area_rectangulo() que devuelva el área del rectangulo a partir de una base y una altura. Calcula el área de un rectángulo de 15 de base y 10 de altura.**\n",
    "\n",
    "*Nota: El área de un rectángulo se obtiene al multiplicar la base por la altura.*"
   ]
  },
  {
   "cell_type": "code",
   "execution_count": 1,
   "metadata": {},
   "outputs": [
    {
     "name": "stdout",
     "output_type": "stream",
     "text": [
      "150\n"
     ]
    }
   ],
   "source": [
    "# Completa el ejercicio aquí\n",
    "def area_rectangulo(base, altura):\n",
    "    return base * altura\n",
    "\n",
    "print(area_rectangulo(15, 10))\n"
   ]
  },
  {
   "cell_type": "markdown",
   "metadata": {},
   "source": [
    "**2) Realiza una función llamada area_circulo() que devuelva el área de un círculo a partir de un radio. Calcula el área de un círculo de 5 de radio: **\n",
    "\n",
    "Nota: El área de un círculo se obtiene al elevar el radio a dos y multiplicando el resultado por el número pi. Puedes utilizar el valor 3.14159 como pi o importarlo del módulo math:\n",
    "```python\n",
    "import math\n",
    "print(math.pi)\n",
    "> 3.1415...\n",
    "```"
   ]
  },
  {
   "cell_type": "code",
   "execution_count": 2,
   "metadata": {},
   "outputs": [
    {
     "name": "stdout",
     "output_type": "stream",
     "text": [
      "78.53981633974483\n"
     ]
    }
   ],
   "source": [
    "# Completa el ejercicio aquí\n",
    "import math\n",
    "\n",
    "def area_circulo(radio):\n",
    "    return math.pi*(radio**2)\n",
    "\n",
    "print(area_circulo(5))\n"
   ]
  },
  {
   "cell_type": "markdown",
   "metadata": {},
   "source": [
    "**3) Realiza una función llamada relacion() que a partir de dos números cumpla lo siguiente**:\n",
    "\n",
    "* Si el primer número es mayor que el segundo, debe devolver 1.\n",
    "* Si el primer número es menor que el segundo, debe devolver -1.\n",
    "* Si ambos números son iguales, debe devolver un 0.\n",
    "\n",
    "** Comprueba la relación entre los números: '5 y 10', '10 y 5' y '5 y 5'**"
   ]
  },
  {
   "cell_type": "code",
   "execution_count": 5,
   "metadata": {},
   "outputs": [
    {
     "data": {
      "text/plain": [
       "1"
      ]
     },
     "execution_count": 5,
     "metadata": {},
     "output_type": "execute_result"
    }
   ],
   "source": [
    "# Completa el ejercicio aquí\n",
    "def relacion(a, b):\n",
    "    if (a - b > 0 ):\n",
    "        return 1\n",
    "    elif (a -b == 0):\n",
    "        return 0\n",
    "    else: \n",
    "        return -1\n",
    "\n",
    "relacion(15, 5)"
   ]
  },
  {
   "cell_type": "markdown",
   "metadata": {},
   "source": [
    "**4) Realiza una función llamada intermedio() que a partir de dos números, devuelva su punto intermedio:**\n",
    "\n",
    "*Nota: El número intermedio de dos números corresponde a la suma de los dos números dividida entre 2*\n",
    "\n",
    "** Comprueba el punto intermedio entre -12 y 24**"
   ]
  },
  {
   "cell_type": "code",
   "execution_count": 6,
   "metadata": {},
   "outputs": [
    {
     "data": {
      "text/plain": [
       "6.0"
      ]
     },
     "execution_count": 6,
     "metadata": {},
     "output_type": "execute_result"
    }
   ],
   "source": [
    "# Completa el ejercicio aquí\n",
    "\n",
    "def intermedio(numeroA, numeroB):\n",
    "    return (numeroA + numeroB) / 2\n",
    "\n",
    "intermedio(-12, 24)\n"
   ]
  },
  {
   "cell_type": "markdown",
   "metadata": {},
   "source": [
    "**5) Realiza una función llamada recortar() que reciba tres parámetros. El primero es el número a recortar, el segundo es el límite inferior y el tercero el límite superior. La función tendrá que cumplir lo siguiente:**\n",
    "\n",
    "* Devolver el límite inferior si el número es menor que éste\n",
    "* Devolver el límite superior si el número es mayor que éste.\n",
    "* Devolver el número sin cambios si no se supera ningún límite.\n",
    "\n",
    "** Comprueba el resultado de recortar 15 entre los límites 0 y 10**"
   ]
  },
  {
   "cell_type": "code",
   "execution_count": 10,
   "metadata": {},
   "outputs": [
    {
     "data": {
      "text/plain": [
       "16"
      ]
     },
     "execution_count": 10,
     "metadata": {},
     "output_type": "execute_result"
    }
   ],
   "source": [
    "# Completa el ejercicio aquí\n",
    "\n",
    "def recortar(numero, li, ls):\n",
    "    if numero < li:\n",
    "        return li\n",
    "    elif numero > ls:\n",
    "        return ls\n",
    "    else:\n",
    "        return numero\n",
    "    \n",
    "recortar(15, 16,10)\n",
    "    \n"
   ]
  },
  {
   "cell_type": "markdown",
   "metadata": {},
   "source": [
    "**6) Realiza una función separar() que tome una lista de números enteros y devuelva dos listas ordenadas. La primera con los números pares, y la segunda con los números impares:**\n",
    "\n",
    "Por ejemplo: \n",
    "\n",
    "```python\n",
    "pares, impares = separar([6,5,2,1,7])\n",
    "print(pares)   # valdría [2, 6]\n",
    "print(impares)  # valdría [1, 5, 7]\n",
    "\n",
    "```\n",
    "\n",
    "*Nota: Para ordenar una lista automáticamente puedes usar el método .sort().*"
   ]
  },
  {
   "cell_type": "code",
   "execution_count": 16,
   "metadata": {},
   "outputs": [
    {
     "ename": "ValueError",
     "evalue": "not enough values to unpack (expected 2, got 0)",
     "output_type": "error",
     "traceback": [
      "\u001b[0;31m---------------------------------------------------------------------------\u001b[0m",
      "\u001b[0;31mValueError\u001b[0m                                Traceback (most recent call last)",
      "\u001b[0;32m<ipython-input-16-9b49bc2cc511>\u001b[0m in \u001b[0;36m<module>\u001b[0;34m\u001b[0m\n\u001b[1;32m     15\u001b[0m \u001b[0;34m\u001b[0m\u001b[0m\n\u001b[1;32m     16\u001b[0m \u001b[0;34m\u001b[0m\u001b[0m\n\u001b[0;32m---> 17\u001b[0;31m \u001b[0mprint\u001b[0m\u001b[0;34m(\u001b[0m\u001b[0mseparar\u001b[0m\u001b[0;34m(\u001b[0m\u001b[0mnumeros\u001b[0m\u001b[0;34m)\u001b[0m\u001b[0;34m)\u001b[0m\u001b[0;34m\u001b[0m\u001b[0;34m\u001b[0m\u001b[0m\n\u001b[0m",
      "\u001b[0;32m<ipython-input-16-9b49bc2cc511>\u001b[0m in \u001b[0;36mseparar\u001b[0;34m(lista)\u001b[0m\n\u001b[1;32m      6\u001b[0m     \u001b[0mcopia_lista\u001b[0m \u001b[0;34m=\u001b[0m \u001b[0mlista\u001b[0m\u001b[0;34m[\u001b[0m\u001b[0;34m:\u001b[0m\u001b[0;34m]\u001b[0m\u001b[0;34m\u001b[0m\u001b[0;34m\u001b[0m\u001b[0m\n\u001b[1;32m      7\u001b[0m     \u001b[0mcopia_lista\u001b[0m\u001b[0;34m.\u001b[0m\u001b[0msort\u001b[0m\u001b[0;34m(\u001b[0m\u001b[0;34m)\u001b[0m\u001b[0;34m\u001b[0m\u001b[0;34m\u001b[0m\u001b[0m\n\u001b[0;32m----> 8\u001b[0;31m     \u001b[0mpares\u001b[0m\u001b[0;34m,\u001b[0m \u001b[0mimpares\u001b[0m \u001b[0;34m=\u001b[0m \u001b[0;34m[\u001b[0m\u001b[0;34m]\u001b[0m\u001b[0;34m\u001b[0m\u001b[0;34m\u001b[0m\u001b[0m\n\u001b[0m\u001b[1;32m      9\u001b[0m     \u001b[0;32mfor\u001b[0m \u001b[0mnumero\u001b[0m \u001b[0;32min\u001b[0m \u001b[0mcopia_lista\u001b[0m\u001b[0;34m:\u001b[0m\u001b[0;34m\u001b[0m\u001b[0;34m\u001b[0m\u001b[0m\n\u001b[1;32m     10\u001b[0m         \u001b[0;32mif\u001b[0m\u001b[0;34m(\u001b[0m\u001b[0mnumero\u001b[0m \u001b[0;34m%\u001b[0m \u001b[0;36m2\u001b[0m \u001b[0;34m==\u001b[0m \u001b[0;36m0\u001b[0m\u001b[0;34m)\u001b[0m\u001b[0;34m:\u001b[0m\u001b[0;34m\u001b[0m\u001b[0;34m\u001b[0m\u001b[0m\n",
      "\u001b[0;31mValueError\u001b[0m: not enough values to unpack (expected 2, got 0)"
     ]
    }
   ],
   "source": [
    "numeros = [-12, 84, 13, 20, -33, 101, 9]\n",
    "\n",
    "# Completa el ejercicio aquí\n",
    "\n",
    "def separar(lista):\n",
    "    copia_lista = lista[:]\n",
    "    copia_lista.sort()\n",
    "    pares = []\n",
    "    impares = []\n",
    "    for numero in copia_lista:\n",
    "        if(numero % 2 == 0):\n",
    "            pares.append(numero)\n",
    "        else:\n",
    "            impares.append(numero)\n",
    "    return pares, impares\n",
    "\n",
    "\n",
    "print(separar(numeros))\n"
   ]
  },
  {
   "cell_type": "code",
   "execution_count": null,
   "metadata": {},
   "outputs": [],
   "source": []
  }
 ],
 "metadata": {
  "anaconda-cloud": {},
  "kernelspec": {
   "display_name": "Python 3",
   "language": "python",
   "name": "python3"
  },
  "language_info": {
   "codemirror_mode": {
    "name": "ipython",
    "version": 3
   },
   "file_extension": ".py",
   "mimetype": "text/x-python",
   "name": "python",
   "nbconvert_exporter": "python",
   "pygments_lexer": "ipython3",
   "version": "3.8.5"
  }
 },
 "nbformat": 4,
 "nbformat_minor": 1
}
